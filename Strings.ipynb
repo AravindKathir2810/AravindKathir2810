{
  "nbformat": 4,
  "nbformat_minor": 0,
  "metadata": {
    "colab": {
      "name": "Strings.ipynb",
      "provenance": [],
      "authorship_tag": "ABX9TyNvNjxzwSXvWYZtWgSTtWOX",
      "include_colab_link": true
    },
    "kernelspec": {
      "name": "python3",
      "display_name": "Python 3"
    },
    "language_info": {
      "name": "python"
    }
  },
  "cells": [
    {
      "cell_type": "markdown",
      "metadata": {
        "id": "view-in-github",
        "colab_type": "text"
      },
      "source": [
        "<a href=\"https://colab.research.google.com/github/AravindKathir2810/AravindKathir2810/blob/main/Strings.ipynb\" target=\"_parent\"><img src=\"https://colab.research.google.com/assets/colab-badge.svg\" alt=\"Open In Colab\"/></a>"
      ]
    },
    {
      "cell_type": "code",
      "metadata": {
        "colab": {
          "base_uri": "https://localhost:8080/"
        },
        "id": "km7HL6g7mX0I",
        "outputId": "6feacf35-1240-4f03-995e-0cb3ef1489fc"
      },
      "source": [
        "c=\"a\"\n",
        "print(c)\n",
        "print(type(c))\n",
        "\n",
        "s='    We are leaning Python !    '\n",
        "print(type(s))\n",
        "print(len(s))\n",
        "\n",
        "k='Hi'\n",
        "print(k[1])\n",
        "\n",
        "print(k+\"there\")"
      ],
      "execution_count": 5,
      "outputs": [
        {
          "output_type": "stream",
          "text": [
            "a\n",
            "<class 'str'>\n",
            "<class 'str'>\n",
            "31\n",
            "i\n",
            "Hithere\n"
          ],
          "name": "stdout"
        }
      ]
    },
    {
      "cell_type": "code",
      "metadata": {
        "colab": {
          "base_uri": "https://localhost:8080/"
        },
        "id": "wjL_VQ6onC45",
        "outputId": "236d3f84-1c6f-42fb-ca7f-d5f5f7b80440"
      },
      "source": [
        "print(s.upper()) # upper makes everything in capital letter\n",
        "print(s.lower()) # lower makes everything in small letters\n",
        "print(s.strip()) # strip removes extra white space from front and back\n",
        "print(s.find('leaning')) # find tells that word statring index\n"
      ],
      "execution_count": 10,
      "outputs": [
        {
          "output_type": "stream",
          "text": [
            "    WE ARE LEANING PYTHON !    \n",
            "    we are leaning python !    \n",
            "We are leaning Python !\n",
            "11\n"
          ],
          "name": "stdout"
        }
      ]
    },
    {
      "cell_type": "code",
      "metadata": {
        "colab": {
          "base_uri": "https://localhost:8080/"
        },
        "id": "n2MfUAcvoBQ_",
        "outputId": "984d96df-346c-488a-f79c-fd4ed0f65bbf"
      },
      "source": [
        "s=s.replace('leaning','learning') # replace changes the word inside a string\n",
        "print(s)"
      ],
      "execution_count": 11,
      "outputs": [
        {
          "output_type": "stream",
          "text": [
            "    We are learning Python !    \n"
          ],
          "name": "stdout"
        }
      ]
    },
    {
      "cell_type": "code",
      "metadata": {
        "colab": {
          "base_uri": "https://localhost:8080/"
        },
        "id": "ZFAF6-9OoUBM",
        "outputId": "974dd254-81ba-49d3-8883-999e7c505686"
      },
      "source": [
        "split_string = s.split(' ') # split separates each word and gaps into individual strings \n",
        "print(split_string) # split converts string into list\n",
        "print(type(split_string))\n",
        "join_string=' '.join(split_string) # join combines the individual element of list into a single string\n",
        "print(join_string)\n",
        "print(type(join_string))"
      ],
      "execution_count": 20,
      "outputs": [
        {
          "output_type": "stream",
          "text": [
            "['', '', '', '', 'We', 'are', 'learning', 'Python', '!', '', '', '', '']\n",
            "<class 'list'>\n",
            "    We are learning Python !    \n",
            "<class 'str'>\n"
          ],
          "name": "stdout"
        }
      ]
    },
    {
      "cell_type": "code",
      "metadata": {
        "colab": {
          "base_uri": "https://localhost:8080/"
        },
        "id": "5SyEe9vPpy59",
        "outputId": "755a3991-db83-443a-cfd3-ba02a9f7f470"
      },
      "source": [
        "txt=\"Indian\"\n",
        "txt=txt.isalpha()     # isalpha() gives true is string has  include only alphabet characters\n",
        "print(txt)"
      ],
      "execution_count": 40,
      "outputs": [
        {
          "output_type": "stream",
          "text": [
            "True\n"
          ],
          "name": "stdout"
        }
      ]
    },
    {
      "cell_type": "code",
      "metadata": {
        "colab": {
          "base_uri": "https://localhost:8080/"
        },
        "id": "ppvJ2e0ArYLB",
        "outputId": "d65b2ba8-eefc-49bb-f86f-76be81212c14"
      },
      "source": [
        "f=\"I m proud of myself 100%\"\n",
        "f=f.isalpha()        #isalpha() gives false is some other character also comes inside string.\n",
        "print(f)"
      ],
      "execution_count": 36,
      "outputs": [
        {
          "output_type": "stream",
          "text": [
            "False\n"
          ],
          "name": "stdout"
        }
      ]
    },
    {
      "cell_type": "code",
      "metadata": {
        "colab": {
          "base_uri": "https://localhost:8080/"
        },
        "id": "HRvK3dJYsaW5",
        "outputId": "10824f21-dc3f-4a74-bbfe-8b4536a2a74c"
      },
      "source": [
        "arjun=\"  \\t\"\n",
        "arjun=arjun.isspace()      #isspace() returns true if all the characters in string are white space\n",
        "print(arjun)"
      ],
      "execution_count": 52,
      "outputs": [
        {
          "output_type": "stream",
          "text": [
            "True\n"
          ],
          "name": "stdout"
        }
      ]
    },
    {
      "cell_type": "code",
      "metadata": {
        "colab": {
          "base_uri": "https://localhost:8080/"
        },
        "id": "vA1nhBK_s__q",
        "outputId": "ce460525-0818-4a79-d853-f7ac79a07af3"
      },
      "source": [
        "babu=\" nameofwarrior \"\n",
        "babu=babu.isspace()        #isspace() returns false if string is empty or it contains one non-printable character\n",
        "print(babu)"
      ],
      "execution_count": 50,
      "outputs": [
        {
          "output_type": "stream",
          "text": [
            "False\n"
          ],
          "name": "stdout"
        }
      ]
    },
    {
      "cell_type": "code",
      "metadata": {
        "colab": {
          "base_uri": "https://localhost:8080/"
        },
        "id": "dliqR3XguQE4",
        "outputId": "f74d90d6-4d56-4cc9-c2b0-8b248c19dee9"
      },
      "source": [
        "japan=\"4003\"\n",
        "japan=japan.isdigit()      #isdigit is true when there is no white space\n",
        "print(japan)"
      ],
      "execution_count": 55,
      "outputs": [
        {
          "output_type": "stream",
          "text": [
            "False\n"
          ],
          "name": "stdout"
        }
      ]
    },
    {
      "cell_type": "code",
      "metadata": {
        "colab": {
          "base_uri": "https://localhost:8080/"
        },
        "id": "o1_m6w0CuxAt",
        "outputId": "3a8fe279-af22-48e0-fac4-8c6595320232"
      },
      "source": [
        "japan=\" 4 0 0 3 \"\n",
        "japan=japan.isdigit()      #isdigit() returns false is white space is present\n",
        "print(japan)"
      ],
      "execution_count": 56,
      "outputs": [
        {
          "output_type": "stream",
          "text": [
            "False\n"
          ],
          "name": "stdout"
        }
      ]
    },
    {
      "cell_type": "code",
      "metadata": {
        "colab": {
          "base_uri": "https://localhost:8080/"
        },
        "id": "D-GRs8akvEOj",
        "outputId": "7055a8fe-1504-4479-9203-4083422ad6f9"
      },
      "source": [
        "team=\"Technology for all\"\n",
        "team=team.startswith('Technology')\n",
        "print(team)\n",
        "                          #startswith()  checks whether string starts with given character or not       \n",
        "etc=\"abcd\"\n",
        "etc=etc.startswith('b')\n",
        "print(etc)"
      ],
      "execution_count": 59,
      "outputs": [
        {
          "output_type": "stream",
          "text": [
            "True\n",
            "False\n"
          ],
          "name": "stdout"
        }
      ]
    },
    {
      "cell_type": "code",
      "metadata": {
        "colab": {
          "base_uri": "https://localhost:8080/"
        },
        "id": "wyrqkJ2xwEXR",
        "outputId": "227f9f9f-22d1-47c4-a1c4-4eaa99778e1e"
      },
      "source": [
        "my=\"bot\"\n",
        "my=my.endswith('e')\n",
        "print(my)\n",
        "                          #endswith() checks whether strings ends with given character or not\n",
        "veda=\"superb\"\n",
        "veda=veda.endswith('b')\n",
        "print(veda)"
      ],
      "execution_count": 61,
      "outputs": [
        {
          "output_type": "stream",
          "text": [
            "False\n",
            "True\n"
          ],
          "name": "stdout"
        }
      ]
    },
    {
      "cell_type": "code",
      "metadata": {
        "colab": {
          "base_uri": "https://localhost:8080/"
        },
        "id": "HaBhRC67wrww",
        "outputId": "8ba96c19-1353-4da6-f434-a7c6b8d605d8"
      },
      "source": [
        "# Slicing\n",
        "\n",
        "# syntax for slicing: var[starting index : ending index : step size]\n",
        "\n",
        "# default starting index is 0\n",
        "# default ending index is end of string+1\n",
        "# default step size is 1\n",
        "# positive slicing means from left to right stating with index 0\n",
        "# negative slicing means from right to left starting with index -1\n",
        "\n",
        "\n",
        "name='Aravindhan Kathiravan'\n",
        "print(name[0:2:])\n",
        "print(name[-1:-11:-2])\n",
        "print(name[::2])\n",
        "print(name[:5])\n",
        "print(name[-7:-3:1])\n",
        "print(name[::-1])"
      ],
      "execution_count": 69,
      "outputs": [
        {
          "output_type": "stream",
          "text": [
            "Ar\n",
            "nvrha\n",
            "Aaida ahrvn\n",
            "Aravi\n",
            "hira\n",
            "navarihtaK nahdnivarA\n"
          ],
          "name": "stdout"
        }
      ]
    }
  ]
}