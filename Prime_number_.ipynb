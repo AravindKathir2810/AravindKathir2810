{
  "nbformat": 4,
  "nbformat_minor": 0,
  "metadata": {
    "colab": {
      "name": "Prime number .ipynb",
      "provenance": [],
      "authorship_tag": "ABX9TyOTOGMn3tVnM5PoR1vCfD54",
      "include_colab_link": true
    },
    "kernelspec": {
      "name": "python3",
      "display_name": "Python 3"
    },
    "language_info": {
      "name": "python"
    }
  },
  "cells": [
    {
      "cell_type": "markdown",
      "metadata": {
        "id": "view-in-github",
        "colab_type": "text"
      },
      "source": [
        "<a href=\"https://colab.research.google.com/github/AravindKathir2810/AravindKathir2810/blob/main/Prime_number_.ipynb\" target=\"_parent\"><img src=\"https://colab.research.google.com/assets/colab-badge.svg\" alt=\"Open In Colab\"/></a>"
      ]
    },
    {
      "cell_type": "code",
      "metadata": {
        "colab": {
          "base_uri": "https://localhost:8080/"
        },
        "id": "LMVoFiMJu0BP",
        "outputId": "df52db94-3b2d-4824-ebc5-34004f172d42"
      },
      "source": [
        "num=int(input(\"enter the number:\"))\n",
        "for i in range(2,num-1):\n",
        "  if num%i==0:\n",
        "    print(\"its not a prime\")\n",
        "    break\n",
        "  else:\n",
        "    print(\"its a prime\")"
      ],
      "execution_count": 13,
      "outputs": [
        {
          "output_type": "stream",
          "text": [
            "enter the number:42\n",
            "its not a prime\n"
          ],
          "name": "stdout"
        }
      ]
    }
  ]
}