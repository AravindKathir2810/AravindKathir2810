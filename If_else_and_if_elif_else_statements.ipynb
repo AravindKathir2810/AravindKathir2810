{
  "nbformat": 4,
  "nbformat_minor": 0,
  "metadata": {
    "colab": {
      "name": "If else and if-elif-else statements.ipynb",
      "provenance": [],
      "authorship_tag": "ABX9TyOei6XPU/0alY92C6pwB2Bx",
      "include_colab_link": true
    },
    "kernelspec": {
      "name": "python3",
      "display_name": "Python 3"
    },
    "language_info": {
      "name": "python"
    }
  },
  "cells": [
    {
      "cell_type": "markdown",
      "metadata": {
        "id": "view-in-github",
        "colab_type": "text"
      },
      "source": [
        "<a href=\"https://colab.research.google.com/github/AravindKathir2810/AravindKathir2810/blob/main/If_else_and_if_elif_else_statements.ipynb\" target=\"_parent\"><img src=\"https://colab.research.google.com/assets/colab-badge.svg\" alt=\"Open In Colab\"/></a>"
      ]
    },
    {
      "cell_type": "code",
      "metadata": {
        "colab": {
          "base_uri": "https://localhost:8080/"
        },
        "id": "V2AQQwN9keBz",
        "outputId": "8e48ae3d-16a6-48cd-e818-c438f6247812"
      },
      "source": [
        "age=int(input(\"enter the age of the person:\"))\n",
        "\n",
        "if age>=18:\n",
        "  print(\"person can be vaccinated\")\n",
        "else:\n",
        "  print(\"person cant be vaccinated\")  "
      ],
      "execution_count": 2,
      "outputs": [
        {
          "output_type": "stream",
          "text": [
            "enter the age of the person:3\n",
            "person cant be vaccinated\n"
          ],
          "name": "stdout"
        }
      ]
    },
    {
      "cell_type": "code",
      "metadata": {
        "colab": {
          "base_uri": "https://localhost:8080/"
        },
        "id": "pgtZ81jdlABz",
        "outputId": "5ed84946-94ce-436c-c0ec-f60ed8451447"
      },
      "source": [
        "num=int(input(\"enter the number:\"))\n",
        "\n",
        "if num!=0:\n",
        "  if num>0:\n",
        "    print(\"number is positive\")\n",
        "  else:\n",
        "    print(\"number is negative\")\n",
        "else:\n",
        "    print(\"number is equal to zero\")      "
      ],
      "execution_count": 8,
      "outputs": [
        {
          "output_type": "stream",
          "text": [
            "enter the number:4\n",
            "number is positive\n"
          ],
          "name": "stdout"
        }
      ]
    },
    {
      "cell_type": "code",
      "metadata": {
        "colab": {
          "base_uri": "https://localhost:8080/"
        },
        "id": "bX-aJa5UlALI",
        "outputId": "3f7e5824-cf5d-40d4-d3bb-a173d98f2167"
      },
      "source": [
        "grade=int(input(\"enter the marks:\"))\n",
        "\n",
        "if grade>60 and grade<65:\n",
        "  print(\"The student just passed the examniation\")\n",
        "\n",
        "elif grade<70 and grade>60:\n",
        "  print(\"the student got B grade\")\n",
        "\n",
        "elif grade<80 and grade>70:\n",
        "  print(\"the student got A grade\")\n",
        "\n",
        "elif grade>90 and grade<100:\n",
        "  print(\"the student got O grade\")\n",
        "\n",
        "elif grade>100: \n",
        "  print(\"invalid marks\")\n",
        "\n",
        "else:\n",
        "  print(\"student failed in examinations\")     "
      ],
      "execution_count": 12,
      "outputs": [
        {
          "output_type": "stream",
          "text": [
            "enter the marks:99\n",
            "the student got O grade\n"
          ],
          "name": "stdout"
        }
      ]
    }
  ]
}