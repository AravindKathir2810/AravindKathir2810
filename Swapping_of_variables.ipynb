{
  "nbformat": 4,
  "nbformat_minor": 0,
  "metadata": {
    "colab": {
      "name": "Swapping of variables.ipynb",
      "provenance": [],
      "authorship_tag": "ABX9TyMTI5ob0apZE7dOQlkUzxnK",
      "include_colab_link": true
    },
    "kernelspec": {
      "name": "python3",
      "display_name": "Python 3"
    },
    "language_info": {
      "name": "python"
    }
  },
  "cells": [
    {
      "cell_type": "markdown",
      "metadata": {
        "id": "view-in-github",
        "colab_type": "text"
      },
      "source": [
        "<a href=\"https://colab.research.google.com/github/AravindKathir2810/AravindKathir2810/blob/main/Swapping_of_variables.ipynb\" target=\"_parent\"><img src=\"https://colab.research.google.com/assets/colab-badge.svg\" alt=\"Open In Colab\"/></a>"
      ]
    },
    {
      "cell_type": "code",
      "metadata": {
        "colab": {
          "base_uri": "https://localhost:8080/"
        },
        "id": "nWmHaxQibOHY",
        "outputId": "967bd29c-5871-4f8f-97ee-4cc74e9b9a41"
      },
      "source": [
        "a=int(input(\"enter first number:\"))\n",
        "b=int(input(\"enterEsecond number:\"))\n",
        "print(a,b)\n",
        "temp=a\n",
        "a=b\n",
        "b=temp\n",
        "print(a,b)"
      ],
      "execution_count": 3,
      "outputs": [
        {
          "output_type": "stream",
          "text": [
            "enter first number:23\n",
            "enterEsecond number:56\n",
            "23 56\n",
            "56 23\n"
          ],
          "name": "stdout"
        }
      ]
    },
    {
      "cell_type": "code",
      "metadata": {
        "colab": {
          "base_uri": "https://localhost:8080/"
        },
        "id": "C40lMhW8b9hQ",
        "outputId": "551699bd-b02d-40e6-a6c3-fb3ffbb25ed7"
      },
      "source": [
        "a=int(input(\"enter the number 1:\"))\n",
        "b=int(input(\"enter the number 2:\"))\n",
        "print(a,b)\n",
        "a,b=b,a\n",
        "print(a,b)"
      ],
      "execution_count": 4,
      "outputs": [
        {
          "output_type": "stream",
          "text": [
            "enter the number 1:35\n",
            "enter the number 2:90\n",
            "35 90\n",
            "90 35\n"
          ],
          "name": "stdout"
        }
      ]
    }
  ]
}