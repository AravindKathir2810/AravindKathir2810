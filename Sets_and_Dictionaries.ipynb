{
  "nbformat": 4,
  "nbformat_minor": 0,
  "metadata": {
    "colab": {
      "name": "Sets and Dictionaries.ipynb",
      "provenance": [],
      "authorship_tag": "ABX9TyPdubfxAVJGALSgBiQ4829d",
      "include_colab_link": true
    },
    "kernelspec": {
      "name": "python3",
      "display_name": "Python 3"
    },
    "language_info": {
      "name": "python"
    }
  },
  "cells": [
    {
      "cell_type": "markdown",
      "metadata": {
        "id": "view-in-github",
        "colab_type": "text"
      },
      "source": [
        "<a href=\"https://colab.research.google.com/github/AravindKathir2810/AravindKathir2810/blob/main/Sets_and_Dictionaries.ipynb\" target=\"_parent\"><img src=\"https://colab.research.google.com/assets/colab-badge.svg\" alt=\"Open In Colab\"/></a>"
      ]
    },
    {
      "cell_type": "code",
      "metadata": {
        "colab": {
          "base_uri": "https://localhost:8080/"
        },
        "id": "Oycmb9p_fJTW",
        "outputId": "bac57d9b-e17a-459a-d278-98a7339dea96"
      },
      "source": [
        "Set_1={1,2,3,4,5}\n",
        "Set_2={3,4,5,6,7}\n",
        "\n",
        "print(Set_1|Set_2)   # | means union\n",
        "print(Set_1&Set_2)   # & means intersection\n",
        "print(Set_1-Set_2)   # - means differnece\n",
        "print(Set_1^Set_2)   # ^ means symmetric difference"
      ],
      "execution_count": 1,
      "outputs": [
        {
          "output_type": "stream",
          "text": [
            "{1, 2, 3, 4, 5, 6, 7}\n",
            "{3, 4, 5}\n",
            "{1, 2}\n",
            "{1, 2, 6, 7}\n"
          ],
          "name": "stdout"
        }
      ]
    },
    {
      "cell_type": "code",
      "metadata": {
        "colab": {
          "base_uri": "https://localhost:8080/"
        },
        "id": "a9I96fG-gFrB",
        "outputId": "d290aaf0-112f-46c2-da7d-2a5919562afe"
      },
      "source": [
        "a={1,3,57}\n",
        "b={3,5,7,9,11}\n",
        "\n",
        "print(a.union(b))\n",
        "print(a.intersection(b))\n",
        "print(a.difference(b))\n",
        "print(a.symmetric_difference(b))"
      ],
      "execution_count": 2,
      "outputs": [
        {
          "output_type": "stream",
          "text": [
            "{1, 3, 5, 7, 9, 11, 57}\n",
            "{3}\n",
            "{1, 57}\n",
            "{1, 5, 7, 9, 11, 57}\n"
          ],
          "name": "stdout"
        }
      ]
    },
    {
      "cell_type": "code",
      "metadata": {
        "colab": {
          "base_uri": "https://localhost:8080/"
        },
        "id": "sQEhylhSgnqK",
        "outputId": "c08d1750-587f-49b9-f08b-8eb8b23f8f45"
      },
      "source": [
        "dict={ 1:'a' , 2:'b' , 3:'c' , 4:'d' , 5:'e'}\n",
        "\n",
        "print(type(dict))\n",
        "print(dict[3])\n",
        "print(dict[4])\n",
        "print(dict.values())\n",
        "print(dict.keys())\n",
        "print(dict.items())\n",
        "\n",
        "dict[6]='aravinds work'\n",
        "print(dict)"
      ],
      "execution_count": 3,
      "outputs": [
        {
          "output_type": "stream",
          "text": [
            "<class 'dict'>\n",
            "c\n",
            "d\n",
            "dict_values(['a', 'b', 'c', 'd', 'e'])\n",
            "dict_keys([1, 2, 3, 4, 5])\n",
            "dict_items([(1, 'a'), (2, 'b'), (3, 'c'), (4, 'd'), (5, 'e')])\n",
            "{1: 'a', 2: 'b', 3: 'c', 4: 'd', 5: 'e', 6: 'aravinds work'}\n"
          ],
          "name": "stdout"
        }
      ]
    }
  ]
}