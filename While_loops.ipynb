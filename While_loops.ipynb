{
  "nbformat": 4,
  "nbformat_minor": 0,
  "metadata": {
    "colab": {
      "name": "While loops.ipynb",
      "provenance": [],
      "authorship_tag": "ABX9TyOTEfWSLOEsVQFj50WIkTGe",
      "include_colab_link": true
    },
    "kernelspec": {
      "name": "python3",
      "display_name": "Python 3"
    },
    "language_info": {
      "name": "python"
    }
  },
  "cells": [
    {
      "cell_type": "markdown",
      "metadata": {
        "id": "view-in-github",
        "colab_type": "text"
      },
      "source": [
        "<a href=\"https://colab.research.google.com/github/AravindKathir2810/AravindKathir2810/blob/main/While_loops.ipynb\" target=\"_parent\"><img src=\"https://colab.research.google.com/assets/colab-badge.svg\" alt=\"Open In Colab\"/></a>"
      ]
    },
    {
      "cell_type": "code",
      "metadata": {
        "colab": {
          "base_uri": "https://localhost:8080/"
        },
        "id": "Gm5ak4zdoH-V",
        "outputId": "feceb9a4-361b-44ac-9934-4934a740f551"
      },
      "source": [
        "count=0\n",
        "while (count<3):\n",
        "  print(\"the count is:\",count)\n",
        "  count+=1\n",
        "print(\"Good Bye!count is:\",count)  "
      ],
      "execution_count": 3,
      "outputs": [
        {
          "output_type": "stream",
          "text": [
            "the count is: 0\n",
            "the count is: 1\n",
            "the count is: 2\n",
            "Good Bye!count is: 3\n"
          ],
          "name": "stdout"
        }
      ]
    },
    {
      "cell_type": "code",
      "metadata": {
        "colab": {
          "base_uri": "https://localhost:8080/"
        },
        "id": "ChGJQxduogCF",
        "outputId": "3fe95818-bb19-4d84-ba99-0d46dfb3813a"
      },
      "source": [
        "#To find sum of an element in an array\n",
        "\n",
        "list_1=[1,2,3,4,5,6,7,8,9,10]\n",
        "sum=0\n",
        "i=0\n",
        "while ( i < len(list_1)):\n",
        "  \n",
        "  sum=sum+list_1[i]\n",
        "\n",
        "  i+=1\n",
        "print(\"sum is :\",sum)"
      ],
      "execution_count": 35,
      "outputs": [
        {
          "output_type": "stream",
          "text": [
            "sum is : 55\n"
          ],
          "name": "stdout"
        }
      ]
    },
    {
      "cell_type": "code",
      "metadata": {
        "colab": {
          "base_uri": "https://localhost:8080/"
        },
        "id": "kbRRJPcLsLq1",
        "outputId": "b481b899-cd89-46ce-89bd-b4c7dd2e0783"
      },
      "source": [
        "# To find product of element in an array\n",
        "\n",
        "list_1=[10,20,30,40,50,60,70,80,90]\n",
        "mul=1\n",
        "i=0\n",
        "while(i<len(list_1)):\n",
        "  mul=mul*list_1[i]\n",
        "  i=i+1\n",
        "print(\"the product is:\",mul)  \n"
      ],
      "execution_count": 37,
      "outputs": [
        {
          "output_type": "stream",
          "text": [
            "the product is: 362880000000000\n"
          ],
          "name": "stdout"
        }
      ]
    },
    {
      "cell_type": "code",
      "metadata": {
        "colab": {
          "base_uri": "https://localhost:8080/"
        },
        "id": "tU5vfP6UsvsI",
        "outputId": "12fffd32-6c36-459d-f6db-ed087f1587c2"
      },
      "source": [
        "# To find factorial of a number\n",
        "\n",
        "num=int(input(\"enter the number\"))\n",
        "fact=1\n",
        "while (num>0):\n",
        "  fact=fact*num\n",
        "  num=num-1\n",
        "print(\"factorial of a number is:\" , fact)  "
      ],
      "execution_count": 42,
      "outputs": [
        {
          "output_type": "stream",
          "text": [
            "enter the number5\n",
            "factorial of a number is: 120\n"
          ],
          "name": "stdout"
        }
      ]
    },
    {
      "cell_type": "code",
      "metadata": {
        "colab": {
          "base_uri": "https://localhost:8080/"
        },
        "id": "6ftVpTnAtXIS",
        "outputId": "e5e24665-f532-442b-a63f-4af0962000d8"
      },
      "source": [
        "#To check whether a number is prime or not. Method-1\n",
        "\n",
        "%%time\n",
        "num=int(input(\"enter the number:\"))\n",
        "c=0\n",
        "i=2\n",
        "\n",
        "while i<num:\n",
        "  if (num%i)==0:\n",
        "    c=c+1\n",
        "    i=i+1\n",
        "\n",
        "\n",
        "\n",
        "if c==0:\n",
        "  print(\"Given number is prime\")  \n",
        "else:  \n",
        "  print(\"Not a prime\")"
      ],
      "execution_count": 1,
      "outputs": [
        {
          "output_type": "stream",
          "text": [
            "enter the number:2\n",
            "Given number is prime\n",
            "CPU times: user 13 ms, sys: 3.7 ms, total: 16.7 ms\n",
            "Wall time: 3.4 s\n"
          ],
          "name": "stdout"
        }
      ]
    },
    {
      "cell_type": "code",
      "metadata": {
        "colab": {
          "base_uri": "https://localhost:8080/"
        },
        "id": "ZRYvQQNtuw0a",
        "outputId": "d834f3e6-1f8e-4224-facd-e1f64ad7dc12"
      },
      "source": [
        "#To check whether a number is prime or not.Method-2\n",
        "\n",
        "%%time\n",
        "num=int(input(\"enter the number\"))\n",
        "c=0\n",
        "i=2\n",
        "\n",
        "while i<num//2:\n",
        "  if (num%i)==0:\n",
        "    c=c+1\n",
        "    i=i+1\n",
        "\n",
        "if c==0:\n",
        "  print(\"The number is prime\")\n",
        "else:\n",
        "  print(\"Not a prime\")  \n"
      ],
      "execution_count": 2,
      "outputs": [
        {
          "output_type": "stream",
          "text": [
            "enter the number2\n",
            "The number is prime\n",
            "CPU times: user 17.5 ms, sys: 980 µs, total: 18.5 ms\n",
            "Wall time: 3.09 s\n"
          ],
          "name": "stdout"
        }
      ]
    },
    {
      "cell_type": "code",
      "metadata": {
        "colab": {
          "base_uri": "https://localhost:8080/"
        },
        "id": "mlhjVfiPwX4l",
        "outputId": "6d4f80ba-8c54-4804-8c76-9b53e40c8346"
      },
      "source": [
        "#To check whether a number is prime or not. Method-3\n",
        "%%time\n",
        "\n",
        "num=int(input(\"enter the number:\"))\n",
        "c=0\n",
        "i=2\n",
        "\n",
        "while i<=(int((num)**0.5)+1):\n",
        "  if(num%i)==0:\n",
        "    c=c+1\n",
        "    i=i+1\n",
        "\n",
        "if c==0:\n",
        "  print(\"number is prime\")\n",
        "else:\n",
        "  print(\"number is not prime\")  \n"
      ],
      "execution_count": 3,
      "outputs": [
        {
          "output_type": "stream",
          "text": [
            "enter the number:2\n",
            "number is not prime\n",
            "CPU times: user 25.7 ms, sys: 3.36 ms, total: 29 ms\n",
            "Wall time: 5 s\n"
          ],
          "name": "stdout"
        }
      ]
    }
  ]
}