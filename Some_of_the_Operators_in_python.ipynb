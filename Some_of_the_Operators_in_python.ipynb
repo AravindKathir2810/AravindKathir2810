{
  "nbformat": 4,
  "nbformat_minor": 0,
  "metadata": {
    "colab": {
      "name": "Some of the Operators in python.ipynb",
      "provenance": [],
      "authorship_tag": "ABX9TyMbt+aI3WCaHmMvHGM+nkDF",
      "include_colab_link": true
    },
    "kernelspec": {
      "name": "python3",
      "display_name": "Python 3"
    },
    "language_info": {
      "name": "python"
    }
  },
  "cells": [
    {
      "cell_type": "markdown",
      "metadata": {
        "id": "view-in-github",
        "colab_type": "text"
      },
      "source": [
        "<a href=\"https://colab.research.google.com/github/AravindKathir2810/AravindKathir2810/blob/main/Some_of_the_Operators_in_python.ipynb\" target=\"_parent\"><img src=\"https://colab.research.google.com/assets/colab-badge.svg\" alt=\"Open In Colab\"/></a>"
      ]
    },
    {
      "cell_type": "code",
      "metadata": {
        "colab": {
          "base_uri": "https://localhost:8080/"
        },
        "id": "zqVPAUD4fEW_",
        "outputId": "1bd4fec7-ff3d-44f7-f25d-e65a09363c47"
      },
      "source": [
        "# Arithmatic operators (+.  -   ,   /   , **   ,  %  ,  // , *)\n",
        "\n",
        "a=int(input(\"enter the number 1:\"))\n",
        "b=int(input(\"enter the number 2:\"))\n",
        "\n",
        "print('a+b=' , a+b)\n",
        "print('a-b=', a-b)\n",
        "print('a/b=',a/b)\n",
        "print('a**b=', a**b)\n",
        "print('a%b=', a%b)\n",
        "print('a//b=',a//b)\n",
        "print('a*b=',a*b)"
      ],
      "execution_count": 2,
      "outputs": [
        {
          "output_type": "stream",
          "text": [
            "enter the number 1:15\n",
            "enter the number 2:4\n",
            "a+b= 19\n",
            "a-b= 11\n",
            "a/b= 3.75\n",
            "a**b= 50625\n",
            "a%b= 3\n",
            "a//b= 3\n",
            "a*b= 60\n"
          ],
          "name": "stdout"
        }
      ]
    },
    {
      "cell_type": "code",
      "metadata": {
        "colab": {
          "base_uri": "https://localhost:8080/"
        },
        "id": "wI_EvrhUgcYj",
        "outputId": "a1d52878-e92c-4924-90fd-51679c733cce"
      },
      "source": [
        "#Relational operators (> , < , >= , <=)\n",
        "\n",
        "print(5>10)\n",
        "print(5<10)\n",
        "print(5>=10)\n",
        "print(5<=10)"
      ],
      "execution_count": 3,
      "outputs": [
        {
          "output_type": "stream",
          "text": [
            "False\n",
            "True\n",
            "False\n",
            "True\n"
          ],
          "name": "stdout"
        }
      ]
    },
    {
      "cell_type": "code",
      "metadata": {
        "colab": {
          "base_uri": "https://localhost:8080/"
        },
        "id": "UHespr3Bgwn0",
        "outputId": "59abc279-1d6c-45a6-c149-0151ea4f583f"
      },
      "source": [
        "# Equaltiy operatores ( == , !=)\n",
        "\n",
        "print(5!=4)\n",
        "print(5==4)\n",
        "print(5==5)\n",
        "print(4!=5)"
      ],
      "execution_count": 4,
      "outputs": [
        {
          "output_type": "stream",
          "text": [
            "True\n",
            "False\n",
            "True\n",
            "True\n"
          ],
          "name": "stdout"
        }
      ]
    },
    {
      "cell_type": "code",
      "metadata": {
        "colab": {
          "base_uri": "https://localhost:8080/"
        },
        "id": "D8nGWbQzhHYR",
        "outputId": "45cbf8de-355a-4996-b911-63defd9f50a6"
      },
      "source": [
        "# Logical operators ( and , or , not)\n",
        "\n",
        "print(5>2 and 4<9)\n",
        "print(5<2 or 4>9)\n",
        "print(not(5!=4 or 4==4))"
      ],
      "execution_count": 5,
      "outputs": [
        {
          "output_type": "stream",
          "text": [
            "True\n",
            "False\n",
            "False\n"
          ],
          "name": "stdout"
        }
      ]
    },
    {
      "cell_type": "code",
      "metadata": {
        "colab": {
          "base_uri": "https://localhost:8080/"
        },
        "id": "jcZ2GO5KhoJg",
        "outputId": "d823e0c6-51b9-43a6-8ea1-3646cfcf3b1a"
      },
      "source": [
        "# Bitwise operators ( & , | , ^ , ~)\n",
        "\n",
        "print(5&4)\n",
        "print(4^5)\n",
        "print(12|20)\n",
        "print(~7)"
      ],
      "execution_count": 14,
      "outputs": [
        {
          "output_type": "stream",
          "text": [
            "4\n",
            "1\n",
            "28\n",
            "-8\n"
          ],
          "name": "stdout"
        }
      ]
    }
  ]
}