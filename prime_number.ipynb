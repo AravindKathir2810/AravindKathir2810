{
  "nbformat": 4,
  "nbformat_minor": 0,
  "metadata": {
    "colab": {
      "name": "prime number.ipynb",
      "provenance": [],
      "authorship_tag": "ABX9TyPJavYiAt0t0fBPW3wNLtGQ",
      "include_colab_link": true
    },
    "kernelspec": {
      "name": "python3",
      "display_name": "Python 3"
    },
    "language_info": {
      "name": "python"
    }
  },
  "cells": [
    {
      "cell_type": "markdown",
      "metadata": {
        "id": "view-in-github",
        "colab_type": "text"
      },
      "source": [
        "<a href=\"https://colab.research.google.com/github/AravindKathir2810/AravindKathir2810/blob/main/prime_number.ipynb\" target=\"_parent\"><img src=\"https://colab.research.google.com/assets/colab-badge.svg\" alt=\"Open In Colab\"/></a>"
      ]
    },
    {
      "cell_type": "code",
      "metadata": {
        "colab": {
          "base_uri": "https://localhost:8080/"
        },
        "id": "-SueZzbQiCXS",
        "outputId": "7e6164b3-799e-4fea-c605-e0b06b5d4c52"
      },
      "source": [
        "num=int(input(\"enter the number:\"))\n",
        "if num>1:\n",
        "  for i in range(2,num//2):\n",
        "    if (num%i)==0:\n",
        "      print(\"number is not prime\")\n",
        "      break\n",
        "    else:\n",
        "      print(\"number is prime\")\n",
        "else:\n",
        "  print(\"number is not prime\")        "
      ],
      "execution_count": 6,
      "outputs": [
        {
          "output_type": "stream",
          "text": [
            "enter the number:7\n",
            "number is prime\n"
          ],
          "name": "stdout"
        }
      ]
    }
  ]
}