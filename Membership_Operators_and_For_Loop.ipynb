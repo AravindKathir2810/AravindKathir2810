{
  "nbformat": 4,
  "nbformat_minor": 0,
  "metadata": {
    "colab": {
      "name": "Membership Operators and For Loop.ipynb",
      "provenance": [],
      "authorship_tag": "ABX9TyN0Gv/P2h8ZR/XH5bLASE7f",
      "include_colab_link": true
    },
    "kernelspec": {
      "name": "python3",
      "display_name": "Python 3"
    },
    "language_info": {
      "name": "python"
    }
  },
  "cells": [
    {
      "cell_type": "markdown",
      "metadata": {
        "id": "view-in-github",
        "colab_type": "text"
      },
      "source": [
        "<a href=\"https://colab.research.google.com/github/AravindKathir2810/AravindKathir2810/blob/main/Membership_Operators_and_For_Loop.ipynb\" target=\"_parent\"><img src=\"https://colab.research.google.com/assets/colab-badge.svg\" alt=\"Open In Colab\"/></a>"
      ]
    },
    {
      "cell_type": "code",
      "metadata": {
        "colab": {
          "base_uri": "https://localhost:8080/"
        },
        "id": "8uNBZlMdm2CV",
        "outputId": "2816ac3f-cf6c-4e85-fdeb-efa5e77262a5"
      },
      "source": [
        "# Membership operators ( in & not in)\n",
        "\n",
        "print(\"a\" in \"Aravind\")\n",
        "print(\"B\"in \"Jaipur\")\n",
        "print('a' not in 'Aravind')\n",
        "print(\"B\" not in \"Jaipur\")"
      ],
      "execution_count": 1,
      "outputs": [
        {
          "output_type": "stream",
          "text": [
            "True\n",
            "False\n",
            "False\n",
            "True\n"
          ],
          "name": "stdout"
        }
      ]
    },
    {
      "cell_type": "code",
      "metadata": {
        "colab": {
          "base_uri": "https://localhost:8080/"
        },
        "id": "-9p8H3TRnuS_",
        "outputId": "901314ca-9924-4426-b2ed-342a2cf2b3ae"
      },
      "source": [
        "for i in range(0,10):\n",
        "  print(i)"
      ],
      "execution_count": 2,
      "outputs": [
        {
          "output_type": "stream",
          "text": [
            "0\n",
            "1\n",
            "2\n",
            "3\n",
            "4\n",
            "5\n",
            "6\n",
            "7\n",
            "8\n",
            "9\n"
          ],
          "name": "stdout"
        }
      ]
    },
    {
      "cell_type": "code",
      "metadata": {
        "colab": {
          "base_uri": "https://localhost:8080/"
        },
        "id": "kgPrrTxtn0kY",
        "outputId": "6c408e20-9e8e-44da-c49c-8b6bf6860dd5"
      },
      "source": [
        "for i in range(0,101):\n",
        "  if (i%2)==0:\n",
        "    print(i)"
      ],
      "execution_count": 3,
      "outputs": [
        {
          "output_type": "stream",
          "text": [
            "0\n",
            "2\n",
            "4\n",
            "6\n",
            "8\n",
            "10\n",
            "12\n",
            "14\n",
            "16\n",
            "18\n",
            "20\n",
            "22\n",
            "24\n",
            "26\n",
            "28\n",
            "30\n",
            "32\n",
            "34\n",
            "36\n",
            "38\n",
            "40\n",
            "42\n",
            "44\n",
            "46\n",
            "48\n",
            "50\n",
            "52\n",
            "54\n",
            "56\n",
            "58\n",
            "60\n",
            "62\n",
            "64\n",
            "66\n",
            "68\n",
            "70\n",
            "72\n",
            "74\n",
            "76\n",
            "78\n",
            "80\n",
            "82\n",
            "84\n",
            "86\n",
            "88\n",
            "90\n",
            "92\n",
            "94\n",
            "96\n",
            "98\n",
            "100\n"
          ],
          "name": "stdout"
        }
      ]
    },
    {
      "cell_type": "code",
      "metadata": {
        "colab": {
          "base_uri": "https://localhost:8080/"
        },
        "id": "iSPTtXMTn_qq",
        "outputId": "8081a2e0-9ed6-4996-e65e-857de8db0752"
      },
      "source": [
        "for i in range(0,101):\n",
        "  if i%2!=0:\n",
        "    print(i)"
      ],
      "execution_count": 4,
      "outputs": [
        {
          "output_type": "stream",
          "text": [
            "1\n",
            "3\n",
            "5\n",
            "7\n",
            "9\n",
            "11\n",
            "13\n",
            "15\n",
            "17\n",
            "19\n",
            "21\n",
            "23\n",
            "25\n",
            "27\n",
            "29\n",
            "31\n",
            "33\n",
            "35\n",
            "37\n",
            "39\n",
            "41\n",
            "43\n",
            "45\n",
            "47\n",
            "49\n",
            "51\n",
            "53\n",
            "55\n",
            "57\n",
            "59\n",
            "61\n",
            "63\n",
            "65\n",
            "67\n",
            "69\n",
            "71\n",
            "73\n",
            "75\n",
            "77\n",
            "79\n",
            "81\n",
            "83\n",
            "85\n",
            "87\n",
            "89\n",
            "91\n",
            "93\n",
            "95\n",
            "97\n",
            "99\n"
          ],
          "name": "stdout"
        }
      ]
    },
    {
      "cell_type": "code",
      "metadata": {
        "colab": {
          "base_uri": "https://localhost:8080/"
        },
        "id": "CGmmH0a6oYGn",
        "outputId": "e5115f15-cbad-4f71-d56b-d699c3e46d10"
      },
      "source": [
        "tup=(1,2,3,4,5)\n",
        "prod=1\n",
        "for item in tup:\n",
        "  prod*=item\n",
        "  print(\"Product=\",prod)"
      ],
      "execution_count": 7,
      "outputs": [
        {
          "output_type": "stream",
          "text": [
            "Product= 1\n",
            "Product= 2\n",
            "Product= 6\n",
            "Product= 24\n",
            "Product= 120\n"
          ],
          "name": "stdout"
        }
      ]
    },
    {
      "cell_type": "code",
      "metadata": {
        "colab": {
          "base_uri": "https://localhost:8080/"
        },
        "id": "psJyj9KkoM3N",
        "outputId": "56a10ac7-0afa-4aa8-9e1e-c37752ff0163"
      },
      "source": [
        "lst=[1,2,3,4,5]\n",
        "for i in lst:\n",
        "  print(i)"
      ],
      "execution_count": 5,
      "outputs": [
        {
          "output_type": "stream",
          "text": [
            "1\n",
            "2\n",
            "3\n",
            "4\n",
            "5\n"
          ],
          "name": "stdout"
        }
      ]
    },
    {
      "cell_type": "code",
      "metadata": {
        "colab": {
          "base_uri": "https://localhost:8080/"
        },
        "id": "HGewcylBoxrL",
        "outputId": "61fc9641-9cb2-46ad-9d62-91b4a60362e8"
      },
      "source": [
        "for i in range(0,10,3):\n",
        "  print(i)"
      ],
      "execution_count": 8,
      "outputs": [
        {
          "output_type": "stream",
          "text": [
            "0\n",
            "3\n",
            "6\n",
            "9\n"
          ],
          "name": "stdout"
        }
      ]
    },
    {
      "cell_type": "code",
      "metadata": {
        "colab": {
          "base_uri": "https://localhost:8080/"
        },
        "id": "9YqxeyCqo6us",
        "outputId": "ea6ec957-39e4-4ba7-b6a8-026872a53c84"
      },
      "source": [
        "for count in range(1,10,2):\n",
        "  print('The count is:' , count)\n",
        "print(\"Good bye!\")"
      ],
      "execution_count": 10,
      "outputs": [
        {
          "output_type": "stream",
          "text": [
            "The count is: 1\n",
            "The count is: 3\n",
            "The count is: 5\n",
            "The count is: 7\n",
            "The count is: 9\n",
            "Good bye!\n"
          ],
          "name": "stdout"
        }
      ]
    },
    {
      "cell_type": "code",
      "metadata": {
        "colab": {
          "base_uri": "https://localhost:8080/"
        },
        "id": "Li6A1ulYpQDi",
        "outputId": "90920f12-eb23-4986-ddcd-aaf3da9d01fa"
      },
      "source": [
        "for i in range(9,0,-2):\n",
        "  print(i)"
      ],
      "execution_count": 11,
      "outputs": [
        {
          "output_type": "stream",
          "text": [
            "9\n",
            "7\n",
            "5\n",
            "3\n",
            "1\n"
          ],
          "name": "stdout"
        }
      ]
    },
    {
      "cell_type": "code",
      "metadata": {
        "colab": {
          "base_uri": "https://localhost:8080/"
        },
        "id": "oag-Df_lpWQq",
        "outputId": "f643d2f7-531b-4b72-a2cf-124aa9fbcd33"
      },
      "source": [
        "for i in range(10,0,-2):\n",
        "  print(i)"
      ],
      "execution_count": 12,
      "outputs": [
        {
          "output_type": "stream",
          "text": [
            "10\n",
            "8\n",
            "6\n",
            "4\n",
            "2\n"
          ],
          "name": "stdout"
        }
      ]
    },
    {
      "cell_type": "code",
      "metadata": {
        "colab": {
          "base_uri": "https://localhost:8080/"
        },
        "id": "z9moKiDnpbxz",
        "outputId": "13e4746c-8703-463f-91e0-0368a8e329e4"
      },
      "source": [
        "lst=[10,20,30,40,50,60,70,80,90,100]\n",
        "for index in range(len(lst)):\n",
        "  print(lst[index])"
      ],
      "execution_count": 13,
      "outputs": [
        {
          "output_type": "stream",
          "text": [
            "10\n",
            "20\n",
            "30\n",
            "40\n",
            "50\n",
            "60\n",
            "70\n",
            "80\n",
            "90\n",
            "100\n"
          ],
          "name": "stdout"
        }
      ]
    }
  ]
}