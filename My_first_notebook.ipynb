{
  "nbformat": 4,
  "nbformat_minor": 0,
  "metadata": {
    "colab": {
      "name": "My first notebook.ipynb",
      "provenance": [],
      "authorship_tag": "ABX9TyMsflW2fZbuaW9DfUqkFvMw",
      "include_colab_link": true
    },
    "kernelspec": {
      "name": "python3",
      "display_name": "Python 3"
    },
    "language_info": {
      "name": "python"
    }
  },
  "cells": [
    {
      "cell_type": "markdown",
      "metadata": {
        "id": "view-in-github",
        "colab_type": "text"
      },
      "source": [
        "<a href=\"https://colab.research.google.com/github/AravindKathir2810/AravindKathir2810/blob/main/My_first_notebook.ipynb\" target=\"_parent\"><img src=\"https://colab.research.google.com/assets/colab-badge.svg\" alt=\"Open In Colab\"/></a>"
      ]
    },
    {
      "cell_type": "code",
      "metadata": {
        "colab": {
          "base_uri": "https://localhost:8080/"
        },
        "id": "jQIKPHOFSTke",
        "outputId": "cbb77344-1765-4ecf-c5cf-859f0ea4b0bd"
      },
      "source": [
        "print(\"Hello World!\")"
      ],
      "execution_count": 1,
      "outputs": [
        {
          "output_type": "stream",
          "text": [
            "Hello World!\n"
          ],
          "name": "stdout"
        }
      ]
    },
    {
      "cell_type": "code",
      "metadata": {
        "colab": {
          "base_uri": "https://localhost:8080/"
        },
        "id": "7mZQ6MyuTf7W",
        "outputId": "ae23ca63-98d7-4382-fbe7-3c30071a1273"
      },
      "source": [
        "print(\"Father of Python is GUIDO VAN ROSSUM\")"
      ],
      "execution_count": 2,
      "outputs": [
        {
          "output_type": "stream",
          "text": [
            "Father of Python is GUIDO VAN ROSSUM\n"
          ],
          "name": "stdout"
        }
      ]
    },
    {
      "cell_type": "code",
      "metadata": {
        "colab": {
          "base_uri": "https://localhost:8080/"
        },
        "id": "iK5iANhcWWVq",
        "outputId": "8b6b4462-784f-49f6-9340-b22c9523e349"
      },
      "source": [
        "print(\"Where can we use python?\")\n",
        "\n",
        "print(\"Answer - Python is used to:\")\n",
        "print(\"         1. Developing games\")\n",
        "print(\"         2. Build destop ,web , database ,scientific and numeric and network applications.\")\n",
        "print(\"         3. Datascience, AI and IOT\")\n",
        "\n"
      ],
      "execution_count": 3,
      "outputs": [
        {
          "output_type": "stream",
          "text": [
            "Where can we use python?\n",
            "Answer - Python is used to:\n",
            "         1. Developing games\n",
            "         2. Build destop ,web , database ,scientific and numeric and network applications.\n",
            "         3. Datascience, AI and IOT\n"
          ],
          "name": "stdout"
        }
      ]
    },
    {
      "cell_type": "code",
      "metadata": {
        "colab": {
          "base_uri": "https://localhost:8080/"
        },
        "id": "1__viCbwYeD6",
        "outputId": "53823c1c-43fb-44ca-80ce-ef1639fd027f"
      },
      "source": [
        "print(\"Features of Python\")\n",
        "\n",
        "print(\"1. Simple and easy to learn\")\n",
        "print(\"2. Free and open source\")\n",
        "print(\"3. General Purpose\")\n",
        "print(\"4. Platform Independent\")\n",
        "print(\"5. Case Sensitive\")\n",
        "print(\"6. Interpreted Language\")\n",
        "print(\"7. Dynamically Typed\")\n",
        "print(\"8. Rich Library\")\n",
        "print(\"9. Consise Coding\")\n",
        "print(\"10. High Level Programming Language\")"
      ],
      "execution_count": 4,
      "outputs": [
        {
          "output_type": "stream",
          "text": [
            "Features of Python\n",
            "1. Simple and easy to learn\n",
            "2. Free and open source\n",
            "3. General Purpose\n",
            "4. Platform Independent\n",
            "5. Case Sensitive\n",
            "6. Interpreted Language\n",
            "7. Dynamically Typed\n",
            "8. Rich Library\n",
            "9. Consise Coding\n",
            "10. High Level Programming Language\n"
          ],
          "name": "stdout"
        }
      ]
    },
    {
      "cell_type": "code",
      "metadata": {
        "colab": {
          "base_uri": "https://localhost:8080/"
        },
        "id": "VtsK-08rhYQC",
        "outputId": "0c2f11a9-c541-4e79-d300-6d1f44633425"
      },
      "source": [
        "a=int(input(\"enter the age of the person\"))\n",
        "if a>45:\n",
        "  print(\"You can vaccinate.\")\n",
        "else:\n",
        "  print(\"Vaccination is not available for you.\")"
      ],
      "execution_count": 6,
      "outputs": [
        {
          "output_type": "stream",
          "text": [
            "enter the age of the person34\n",
            "Vaccination is not available for you.\n"
          ],
          "name": "stdout"
        }
      ]
    },
    {
      "cell_type": "code",
      "metadata": {
        "colab": {
          "base_uri": "https://localhost:8080/"
        },
        "id": "zqWR9p8aiLjG",
        "outputId": "7893e897-8ce0-496f-9e02-a392cc13b6ff"
      },
      "source": [
        "a=int(input(\"enter first number:\"))\n",
        "b=int(input(\"enter second number:\"))\n",
        "print(a+b)\n",
        "print(a*b)\n",
        "print(a**b)\n",
        "print(a-b)\n"
      ],
      "execution_count": 7,
      "outputs": [
        {
          "output_type": "stream",
          "text": [
            "enter first number:10\n",
            "enter second number:20\n",
            "30\n",
            "200\n",
            "100000000000000000000\n",
            "-10\n"
          ],
          "name": "stdout"
        }
      ]
    },
    {
      "cell_type": "code",
      "metadata": {
        "colab": {
          "base_uri": "https://localhost:8080/"
        },
        "id": "lZ5CysmQjtQP",
        "outputId": "91988716-b57d-4990-84e8-b3e0f64f98be"
      },
      "source": [
        "a=5\n",
        "b=5.6\n",
        "d=\"Cat\"\n",
        "print(type(a))\n",
        "print(type(b))\n",
        "print(type(d))"
      ],
      "execution_count": 11,
      "outputs": [
        {
          "output_type": "stream",
          "text": [
            "<class 'int'>\n",
            "<class 'float'>\n",
            "<class 'str'>\n"
          ],
          "name": "stdout"
        }
      ]
    },
    {
      "cell_type": "code",
      "metadata": {
        "colab": {
          "base_uri": "https://localhost:8080/"
        },
        "id": "9djlowR7kgRD",
        "outputId": "505ba613-a0ed-4c78-89d7-a06978eb7a20"
      },
      "source": [
        "a= \"Aravind\"\n",
        "b= \"Kathir\"\n",
        "print(a+b)"
      ],
      "execution_count": 12,
      "outputs": [
        {
          "output_type": "stream",
          "text": [
            "AravindKathir\n"
          ],
          "name": "stdout"
        }
      ]
    },
    {
      "cell_type": "code",
      "metadata": {
        "colab": {
          "base_uri": "https://localhost:8080/"
        },
        "id": "MsP5n7n3ln4h",
        "outputId": "717d9f05-4ee2-4b5b-8e15-98890bad8a10"
      },
      "source": [
        "a=str(input(\"enter the user nanme:\"))\n",
        "print(a)"
      ],
      "execution_count": 14,
      "outputs": [
        {
          "output_type": "stream",
          "text": [
            "enter the user nanme:Aravind Kathir\n",
            "Aravind Kathir\n"
          ],
          "name": "stdout"
        }
      ]
    },
    {
      "cell_type": "code",
      "metadata": {
        "colab": {
          "base_uri": "https://localhost:8080/"
        },
        "id": "_GDrmn8qnI15",
        "outputId": "a4467871-a9be-4540-a632-54abd5a47d78"
      },
      "source": [
        "z= \"Aravind\"\n",
        "c= 3\n",
        "print(z*c)"
      ],
      "execution_count": 15,
      "outputs": [
        {
          "output_type": "stream",
          "text": [
            "AravindAravindAravind\n"
          ],
          "name": "stdout"
        }
      ]
    }
  ]
}