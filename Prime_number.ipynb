{
  "nbformat": 4,
  "nbformat_minor": 0,
  "metadata": {
    "colab": {
      "name": "Prime number.ipynb",
      "provenance": [],
      "authorship_tag": "ABX9TyMAd9XNW11ulmdIm1+EBbra",
      "include_colab_link": true
    },
    "kernelspec": {
      "name": "python3",
      "display_name": "Python 3"
    },
    "language_info": {
      "name": "python"
    }
  },
  "cells": [
    {
      "cell_type": "markdown",
      "metadata": {
        "id": "view-in-github",
        "colab_type": "text"
      },
      "source": [
        "<a href=\"https://colab.research.google.com/github/AravindKathir2810/AravindKathir2810/blob/main/Prime_number.ipynb\" target=\"_parent\"><img src=\"https://colab.research.google.com/assets/colab-badge.svg\" alt=\"Open In Colab\"/></a>"
      ]
    },
    {
      "cell_type": "code",
      "metadata": {
        "colab": {
          "base_uri": "https://localhost:8080/"
        },
        "id": "oQsdDbBGdjru",
        "outputId": "d2180389-5bab-4fa6-e681-12f829c47f5b"
      },
      "source": [
        "num=int(input(\"enter the number\"))\n",
        "if num>1:\n",
        "  for i in range(2,num):\n",
        "    if(num%i==0):\n",
        "      print(\"number is not prime\")\n",
        "      break\n",
        "    else:\n",
        "      print(\"number is prime\")\n",
        "      \n",
        "\n",
        "else:\n",
        "  print(\"number is not prime\")\n"
      ],
      "execution_count": 22,
      "outputs": [
        {
          "output_type": "stream",
          "text": [
            "enter the number23\n",
            "number is prime\n",
            "number is prime\n",
            "number is prime\n",
            "number is prime\n",
            "number is prime\n",
            "number is prime\n",
            "number is prime\n",
            "number is prime\n",
            "number is prime\n",
            "number is prime\n",
            "number is prime\n",
            "number is prime\n",
            "number is prime\n",
            "number is prime\n",
            "number is prime\n",
            "number is prime\n",
            "number is prime\n",
            "number is prime\n",
            "number is prime\n",
            "number is prime\n",
            "number is prime\n"
          ],
          "name": "stdout"
        }
      ]
    }
  ]
}