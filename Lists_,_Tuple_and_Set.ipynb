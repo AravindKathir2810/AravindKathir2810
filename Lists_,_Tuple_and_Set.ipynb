{
  "nbformat": 4,
  "nbformat_minor": 0,
  "metadata": {
    "colab": {
      "name": "Lists ,  Tuple and Set.ipynb",
      "provenance": [],
      "authorship_tag": "ABX9TyMG7FCUc7mVU3AgIfQBe1VL",
      "include_colab_link": true
    },
    "kernelspec": {
      "name": "python3",
      "display_name": "Python 3"
    },
    "language_info": {
      "name": "python"
    }
  },
  "cells": [
    {
      "cell_type": "markdown",
      "metadata": {
        "id": "view-in-github",
        "colab_type": "text"
      },
      "source": [
        "<a href=\"https://colab.research.google.com/github/AravindKathir2810/AravindKathir2810/blob/main/Lists_%2C_Tuple_and_Set.ipynb\" target=\"_parent\"><img src=\"https://colab.research.google.com/assets/colab-badge.svg\" alt=\"Open In Colab\"/></a>"
      ]
    },
    {
      "cell_type": "code",
      "metadata": {
        "colab": {
          "base_uri": "https://localhost:8080/"
        },
        "id": "bzUQ0Y0ooqQ0",
        "outputId": "f2a320bd-89da-4ed9-f13b-f0c29e377ddc"
      },
      "source": [
        "# List[ ]\n",
        "\n",
        "var_1=[\"hindi\", \"tamil\" , 4, 5.67 ,\"englsih\", 5+3j]\n",
        "\n",
        "print(var_1)\n",
        "\n",
        "print(type(var_1))\n",
        "\n",
        "print(var_1[0])\n",
        "print(var_1[1])\n",
        "print(var_1[2])\n",
        "print(var_1[3])\n",
        "print(var_1[4])\n",
        "print(var_1[-1])\n",
        "print(var_1[-3])\n",
        "print(var_1[-4])\n"
      ],
      "execution_count": 11,
      "outputs": [
        {
          "output_type": "stream",
          "text": [
            "['hindi', 'tamil', 4, 5.67, 'englsih', (5+3j)]\n",
            "<class 'list'>\n",
            "hindi\n",
            "tamil\n",
            "4\n",
            "5.67\n",
            "englsih\n",
            "(5+3j)\n",
            "5.67\n",
            "4\n"
          ],
          "name": "stdout"
        }
      ]
    },
    {
      "cell_type": "code",
      "metadata": {
        "colab": {
          "base_uri": "https://localhost:8080/"
        },
        "id": "ecu58LvH__ZU",
        "outputId": "25b615ca-43e8-41eb-d248-980560fb86e4"
      },
      "source": [
        "list_1 =[1,2,3,4,5,6,7,8,9,10]\n",
        "list_2=[.5 ,.6 ,.7 ,.8 ,.9]\n",
        "sum=list_1+list_2\n",
        "print(sum)"
      ],
      "execution_count": 12,
      "outputs": [
        {
          "output_type": "stream",
          "text": [
            "[1, 2, 3, 4, 5, 6, 7, 8, 9, 10, 0.5, 0.6, 0.7, 0.8, 0.9]\n"
          ],
          "name": "stdout"
        }
      ]
    },
    {
      "cell_type": "code",
      "metadata": {
        "colab": {
          "base_uri": "https://localhost:8080/"
        },
        "id": "PLwIDhkPAojn",
        "outputId": "c92dcf40-b3de-4476-ff34-7f754edb51e5"
      },
      "source": [
        "list_1[3]=\"aravind\"\n",
        "list_2[1]=\"kathir\"\n",
        "\n",
        "print(list_1)\n",
        "print(list_2)\n",
        "\n",
        "sum=list_1+list_2\n",
        "print(sum)"
      ],
      "execution_count": 16,
      "outputs": [
        {
          "output_type": "stream",
          "text": [
            "[1, 2, 3, 'aravind', 5, 6, 7, 8, 9, 10]\n",
            "[0.5, 'kathir', 0.7, 0.8, 0.9]\n",
            "[1, 2, 3, 'aravind', 5, 6, 7, 8, 9, 10, 0.5, 'kathir', 0.7, 0.8, 0.9]\n"
          ],
          "name": "stdout"
        }
      ]
    },
    {
      "cell_type": "code",
      "metadata": {
        "colab": {
          "base_uri": "https://localhost:8080/"
        },
        "id": "3ImickIYBtwN",
        "outputId": "4dd57ab3-356b-4687-8486-259bd76f35ec"
      },
      "source": [
        "colors=[1,2,3,5,[\"red\",\"blue\",\"green\",\"yellow\"],4]\n",
        "print(colors[4])\n",
        "print(colors[-2])\n"
      ],
      "execution_count": 31,
      "outputs": [
        {
          "output_type": "stream",
          "text": [
            "['red', 'blue', 'green', 'yellow']\n",
            "['red', 'blue', 'green', 'yellow']\n"
          ],
          "name": "stdout"
        }
      ]
    },
    {
      "cell_type": "code",
      "metadata": {
        "colab": {
          "base_uri": "https://localhost:8080/"
        },
        "id": "WDq6HrgDFNZV",
        "outputId": "ce60801e-2af1-4720-95f8-f2e1b940cacb"
      },
      "source": [
        "# Tuple ()\n",
        "\n",
        "van_1=(1,2,3,\"san\")\n",
        "print(van_1)\n",
        "print(type(van_1))"
      ],
      "execution_count": 32,
      "outputs": [
        {
          "output_type": "stream",
          "text": [
            "(1, 2, 3, 'san')\n",
            "<class 'tuple'>\n"
          ],
          "name": "stdout"
        }
      ]
    },
    {
      "cell_type": "code",
      "metadata": {
        "colab": {
          "base_uri": "https://localhost:8080/",
          "height": 212
        },
        "id": "EJByElNiFceW",
        "outputId": "c04accb9-3571-4699-e72c-05d07b3d32ef"
      },
      "source": [
        "van_1[0]=\"a\"\n",
        "\n",
        "print(van_1)  # tuple is immutable"
      ],
      "execution_count": 35,
      "outputs": [
        {
          "output_type": "error",
          "ename": "TypeError",
          "evalue": "ignored",
          "traceback": [
            "\u001b[0;31m---------------------------------------------------------------------------\u001b[0m",
            "\u001b[0;31mTypeError\u001b[0m                                 Traceback (most recent call last)",
            "\u001b[0;32m<ipython-input-35-c5b98a3c0ba2>\u001b[0m in \u001b[0;36m<module>\u001b[0;34m()\u001b[0m\n\u001b[0;32m----> 1\u001b[0;31m \u001b[0mvan_1\u001b[0m\u001b[0;34m[\u001b[0m\u001b[0;36m0\u001b[0m\u001b[0;34m]\u001b[0m\u001b[0;34m=\u001b[0m\u001b[0;34m\"a\"\u001b[0m\u001b[0;34m\u001b[0m\u001b[0;34m\u001b[0m\u001b[0m\n\u001b[0m\u001b[1;32m      2\u001b[0m \u001b[0;34m\u001b[0m\u001b[0m\n\u001b[1;32m      3\u001b[0m \u001b[0mprint\u001b[0m\u001b[0;34m(\u001b[0m\u001b[0mvan_1\u001b[0m\u001b[0;34m[\u001b[0m\u001b[0;36m2\u001b[0m\u001b[0;34m]\u001b[0m\u001b[0;34m)\u001b[0m\u001b[0;34m\u001b[0m\u001b[0;34m\u001b[0m\u001b[0m\n\u001b[1;32m      4\u001b[0m \u001b[0mprint\u001b[0m\u001b[0;34m(\u001b[0m\u001b[0mvan_1\u001b[0m\u001b[0;34m)\u001b[0m  \u001b[0;31m# tuple is immutable\u001b[0m\u001b[0;34m\u001b[0m\u001b[0;34m\u001b[0m\u001b[0m\n",
            "\u001b[0;31mTypeError\u001b[0m: 'tuple' object does not support item assignment"
          ]
        }
      ]
    },
    {
      "cell_type": "code",
      "metadata": {
        "colab": {
          "base_uri": "https://localhost:8080/",
          "height": 195
        },
        "id": "q3pJMxY7FkUk",
        "outputId": "298d6fc1-ca86-461a-a6cd-738fa25df164"
      },
      "source": [
        "# Set {}\n",
        "\n",
        "set_1={1,2,3,4,5,6,7,8}\n",
        "print(set_1[0]) #set is not meant for indexing\n",
        "\n",
        "\n"
      ],
      "execution_count": 34,
      "outputs": [
        {
          "output_type": "error",
          "ename": "TypeError",
          "evalue": "ignored",
          "traceback": [
            "\u001b[0;31m---------------------------------------------------------------------------\u001b[0m",
            "\u001b[0;31mTypeError\u001b[0m                                 Traceback (most recent call last)",
            "\u001b[0;32m<ipython-input-34-21453dd4fddd>\u001b[0m in \u001b[0;36m<module>\u001b[0;34m()\u001b[0m\n\u001b[1;32m      2\u001b[0m \u001b[0;34m\u001b[0m\u001b[0m\n\u001b[1;32m      3\u001b[0m \u001b[0mset_1\u001b[0m\u001b[0;34m=\u001b[0m\u001b[0;34m{\u001b[0m\u001b[0;36m1\u001b[0m\u001b[0;34m,\u001b[0m\u001b[0;36m2\u001b[0m\u001b[0;34m,\u001b[0m\u001b[0;36m3\u001b[0m\u001b[0;34m,\u001b[0m\u001b[0;36m4\u001b[0m\u001b[0;34m,\u001b[0m\u001b[0;36m5\u001b[0m\u001b[0;34m,\u001b[0m\u001b[0;36m6\u001b[0m\u001b[0;34m,\u001b[0m\u001b[0;36m7\u001b[0m\u001b[0;34m,\u001b[0m\u001b[0;36m8\u001b[0m\u001b[0;34m}\u001b[0m\u001b[0;34m\u001b[0m\u001b[0;34m\u001b[0m\u001b[0m\n\u001b[0;32m----> 4\u001b[0;31m \u001b[0mprint\u001b[0m\u001b[0;34m(\u001b[0m\u001b[0mset_1\u001b[0m\u001b[0;34m[\u001b[0m\u001b[0;36m0\u001b[0m\u001b[0;34m]\u001b[0m\u001b[0;34m)\u001b[0m\u001b[0;34m\u001b[0m\u001b[0;34m\u001b[0m\u001b[0m\n\u001b[0m",
            "\u001b[0;31mTypeError\u001b[0m: 'set' object is not subscriptable"
          ]
        }
      ]
    }
  ]
}