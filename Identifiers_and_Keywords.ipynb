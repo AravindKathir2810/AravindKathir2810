{
  "nbformat": 4,
  "nbformat_minor": 0,
  "metadata": {
    "colab": {
      "name": "Identifiers and Keywords.ipynb",
      "provenance": [],
      "authorship_tag": "ABX9TyOQlMNrnfQtJWIKwUl8/2XT",
      "include_colab_link": true
    },
    "kernelspec": {
      "name": "python3",
      "display_name": "Python 3"
    },
    "language_info": {
      "name": "python"
    }
  },
  "cells": [
    {
      "cell_type": "markdown",
      "metadata": {
        "id": "view-in-github",
        "colab_type": "text"
      },
      "source": [
        "<a href=\"https://colab.research.google.com/github/AravindKathir2810/AravindKathir2810/blob/main/Identifiers_and_Keywords.ipynb\" target=\"_parent\"><img src=\"https://colab.research.google.com/assets/colab-badge.svg\" alt=\"Open In Colab\"/></a>"
      ]
    },
    {
      "cell_type": "code",
      "metadata": {
        "colab": {
          "base_uri": "https://localhost:8080/"
        },
        "id": "7YMDYoIZVFb5",
        "outputId": "b1e49cde-b65c-4dce-f238-11d6f4d0b40f"
      },
      "source": [
        "print(\"what is an identifier?\")"
      ],
      "execution_count": 1,
      "outputs": [
        {
          "output_type": "stream",
          "text": [
            "what is an identifier?\n"
          ],
          "name": "stdout"
        }
      ]
    },
    {
      "cell_type": "code",
      "metadata": {
        "colab": {
          "base_uri": "https://localhost:8080/"
        },
        "id": "JQt2bfOdnwjp",
        "outputId": "4429be65-01da-4072-9dcb-0c67c666907e"
      },
      "source": [
        "print(\"Identifier is name of variable, functins ,classes etc.\")"
      ],
      "execution_count": 2,
      "outputs": [
        {
          "output_type": "stream",
          "text": [
            "Identifier is name of variable, functins ,classes etc.\n"
          ],
          "name": "stdout"
        }
      ]
    },
    {
      "cell_type": "code",
      "metadata": {
        "colab": {
          "base_uri": "https://localhost:8080/"
        },
        "id": "anV7f49un5XZ",
        "outputId": "01e9c077-e925-463b-f5c0-1ebe49bf4754"
      },
      "source": [
        "print(\"Q. Whart are the rules for identifier?\")"
      ],
      "execution_count": 3,
      "outputs": [
        {
          "output_type": "stream",
          "text": [
            "Q. Whart are the rules for identifier?\n"
          ],
          "name": "stdout"
        }
      ]
    },
    {
      "cell_type": "code",
      "metadata": {
        "colab": {
          "base_uri": "https://localhost:8080/"
        },
        "id": "Uv7eksMkn5a7",
        "outputId": "8eef6023-de1b-4336-b2c5-650befd92ef4"
      },
      "source": [
        "print(\"1. Valid characters are lowwer and upper case alphabets, numbers and underscore.\")\n",
        "print(\"2. Never start an identifer with a number\")\n",
        "print(\"3. Case sensitive\")\n",
        "print(\"4. No length limit\")\n",
        "print(\"5. We cant use reseved word for an identifier\")"
      ],
      "execution_count": 4,
      "outputs": [
        {
          "output_type": "stream",
          "text": [
            "1. Valid characters are lowwer and upper case alphabets, numbers and underscore.\n",
            "2. Never start an identifer with a number\n",
            "3. Case sensitive\n",
            "4. No length limit\n",
            "5. We cant use reseved word for an identifier\n"
          ],
          "name": "stdout"
        }
      ]
    },
    {
      "cell_type": "code",
      "metadata": {
        "colab": {
          "base_uri": "https://localhost:8080/"
        },
        "id": "PoQfJog4ok7M",
        "outputId": "8c49f0dd-608f-4af1-f189-1a7222328992"
      },
      "source": [
        "import keyword\n",
        "print(keyword.kwlist);\n",
        "print(len(keyword.kwlist));"
      ],
      "execution_count": 5,
      "outputs": [
        {
          "output_type": "stream",
          "text": [
            "['False', 'None', 'True', 'and', 'as', 'assert', 'async', 'await', 'break', 'class', 'continue', 'def', 'del', 'elif', 'else', 'except', 'finally', 'for', 'from', 'global', 'if', 'import', 'in', 'is', 'lambda', 'nonlocal', 'not', 'or', 'pass', 'raise', 'return', 'try', 'while', 'with', 'yield']\n",
            "35\n"
          ],
          "name": "stdout"
        }
      ]
    }
  ]
}