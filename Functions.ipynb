{
  "nbformat": 4,
  "nbformat_minor": 0,
  "metadata": {
    "colab": {
      "name": "Functions.ipynb",
      "provenance": [],
      "authorship_tag": "ABX9TyO4OvanIQC9Ede4WQuUX62R",
      "include_colab_link": true
    },
    "kernelspec": {
      "name": "python3",
      "display_name": "Python 3"
    },
    "language_info": {
      "name": "python"
    }
  },
  "cells": [
    {
      "cell_type": "markdown",
      "metadata": {
        "id": "view-in-github",
        "colab_type": "text"
      },
      "source": [
        "<a href=\"https://colab.research.google.com/github/AravindKathir2810/AravindKathir2810/blob/main/Functions.ipynb\" target=\"_parent\"><img src=\"https://colab.research.google.com/assets/colab-badge.svg\" alt=\"Open In Colab\"/></a>"
      ]
    },
    {
      "cell_type": "code",
      "metadata": {
        "id": "mJa8iKi0rRga"
      },
      "source": [
        "def even_odd(var):                    #Defining a function\n",
        "  if var%2==0:\n",
        "    return\"Even\"\n",
        "  else:\n",
        "    return\"Odd\"  "
      ],
      "execution_count": 1,
      "outputs": []
    },
    {
      "cell_type": "code",
      "metadata": {
        "colab": {
          "base_uri": "https://localhost:8080/"
        },
        "id": "15AZJWx_rsal",
        "outputId": "fb63b82e-0042-492b-f1ce-e831a889b116"
      },
      "source": [
        "def even_odd(var):                   \n",
        "  if var%2==0:\n",
        "    return\"Even\"\n",
        "  else:\n",
        "    return\"Odd\" \n",
        "\n",
        "user_input=int(input(\"Enter the number:\"))\n",
        "print(even_odd(user_input))          #Calling a function"
      ],
      "execution_count": 3,
      "outputs": [
        {
          "output_type": "stream",
          "text": [
            "Enter the number:3\n",
            "Odd\n"
          ],
          "name": "stdout"
        }
      ]
    },
    {
      "cell_type": "code",
      "metadata": {
        "colab": {
          "base_uri": "https://localhost:8080/"
        },
        "id": "YVtCJNXNsJ7t",
        "outputId": "cbb6cd10-ba81-4312-8252-0cce234d654e"
      },
      "source": [
        "def even_odd(var):                   \n",
        "  if var%2==0:\n",
        "    return\"Even\"\n",
        "  else:\n",
        "    return\"Odd\" \n",
        "\n",
        "user_input=int(input(\"Enter the number:\"))\n",
        "print(even_odd(user_input))          #Calling a function"
      ],
      "execution_count": 4,
      "outputs": [
        {
          "output_type": "stream",
          "text": [
            "Enter the number:6\n",
            "Even\n"
          ],
          "name": "stdout"
        }
      ]
    },
    {
      "cell_type": "code",
      "metadata": {
        "colab": {
          "base_uri": "https://localhost:8080/"
        },
        "id": "Diubzvy5sNHe",
        "outputId": "a5f819de-33b5-432d-ec95-36b8ae04e327"
      },
      "source": [
        "def fun():\n",
        "  print('ABC')\n",
        "  return 98\n",
        "fun()\n",
        "print(fun())  "
      ],
      "execution_count": 5,
      "outputs": [
        {
          "output_type": "stream",
          "text": [
            "ABC\n",
            "ABC\n",
            "98\n"
          ],
          "name": "stdout"
        }
      ]
    },
    {
      "cell_type": "code",
      "metadata": {
        "colab": {
          "base_uri": "https://localhost:8080/"
        },
        "id": "yDfjHkaZslN9",
        "outputId": "456e1c3b-1139-491b-f5c5-9c741c3cc3e9"
      },
      "source": [
        "def add_sub(a,b):\n",
        "  add=a+b\n",
        "  sub=a-b\n",
        "  return add,sub\n",
        "addictiion=add_sub(15,5)\n",
        "print(type(addictiion))\n",
        "print(addictiion)"
      ],
      "execution_count": 8,
      "outputs": [
        {
          "output_type": "stream",
          "text": [
            "<class 'tuple'>\n",
            "(20, 10)\n"
          ],
          "name": "stdout"
        }
      ]
    },
    {
      "cell_type": "code",
      "metadata": {
        "colab": {
          "base_uri": "https://localhost:8080/"
        },
        "id": "2VLFswedtKl0",
        "outputId": "786d26b9-4bba-49c8-f64b-6d61fcbf17dd"
      },
      "source": [
        "def my_First_Function():\n",
        "  ''' Ur Brain '''                         #Doc string\n",
        "  print('Hello World!')\n",
        "my_First_Function()\n",
        "print(my_First_Function.__doc__)   "
      ],
      "execution_count": 9,
      "outputs": [
        {
          "output_type": "stream",
          "text": [
            "Hello World!\n",
            " Ur Brain \n"
          ],
          "name": "stdout"
        }
      ]
    }
  ]
}